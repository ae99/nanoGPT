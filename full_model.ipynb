{
 "cells": [
  {
   "cell_type": "code",
   "execution_count": 1,
   "metadata": {},
   "outputs": [],
   "source": [
    "from modeling_gpt_neox import GPTNeoXForCausalLM\n",
    "model_hf = GPTNeoXForCausalLM.from_pretrained(\"trl-internal-testing/tiny-random-GPTNeoXForCausalLM\")"
   ]
  },
  {
   "cell_type": "code",
   "execution_count": 2,
   "metadata": {},
   "outputs": [
    {
     "data": {
      "text/plain": [
       "GPTNeoXConfig {\n",
       "  \"_name_or_path\": \"trl-internal-testing/tiny-random-GPTNeoXForCausalLM\",\n",
       "  \"architectures\": [\n",
       "    \"GPTNeoXForCausalLM\"\n",
       "  ],\n",
       "  \"attention_probs_dropout_prob\": 0.1,\n",
       "  \"bos_token_id\": 0,\n",
       "  \"eos_token_id\": 0,\n",
       "  \"hidden_act\": \"gelu\",\n",
       "  \"hidden_dropout_prob\": 0.1,\n",
       "  \"hidden_size\": 32,\n",
       "  \"initializer_range\": 0.02,\n",
       "  \"intermediate_size\": 37,\n",
       "  \"is_decoder\": true,\n",
       "  \"layer_norm_eps\": 1e-05,\n",
       "  \"max_position_embeddings\": 512,\n",
       "  \"model_type\": \"gpt_neox\",\n",
       "  \"num_attention_heads\": 4,\n",
       "  \"num_hidden_layers\": 5,\n",
       "  \"rotary_emb_base\": 10000,\n",
       "  \"rotary_pct\": 0.25,\n",
       "  \"tie_word_embeddings\": false,\n",
       "  \"torch_dtype\": \"float32\",\n",
       "  \"transformers_version\": \"4.25.1\",\n",
       "  \"type_vocab_size\": 16,\n",
       "  \"use_cache\": true,\n",
       "  \"use_parallel_residual\": true,\n",
       "  \"vocab_size\": 1024\n",
       "}"
      ]
     },
     "execution_count": 2,
     "metadata": {},
     "output_type": "execute_result"
    }
   ],
   "source": [
    "gpt_neox_config = model_hf.config\n",
    "gpt_neox_config"
   ]
  },
  {
   "cell_type": "code",
   "execution_count": 3,
   "metadata": {},
   "outputs": [],
   "source": [
    "from model import GPTConfig, GPT\n",
    "\n",
    "def convert_config(gpt_neox_config):\n",
    "    assert gpt_neox_config.use_parallel_residual\n",
    "    \n",
    "    return GPTConfig(\n",
    "        n_embd = gpt_neox_config.hidden_size,\n",
    "        n_head = gpt_neox_config.num_attention_heads,\n",
    "        n_layer = gpt_neox_config.num_hidden_layers,\n",
    "        vocab_size = gpt_neox_config.vocab_size,\n",
    "        block_size = gpt_neox_config.max_position_embeddings,\n",
    "        bias = True,\n",
    "        dropout= 0.0,\n",
    "        \n",
    "        n_embd_proj = gpt_neox_config.intermediate_size,\n",
    "        rotary_pct = gpt_neox_config.rotary_pct,\n",
    "        use_parallel_residual = gpt_neox_config.use_parallel_residual,\n",
    "    )\n",
    "    \n",
    "gpt_config = convert_config(gpt_neox_config)"
   ]
  },
  {
   "cell_type": "code",
   "execution_count": 4,
   "metadata": {},
   "outputs": [
    {
     "name": "stdout",
     "output_type": "stream",
     "text": [
      "WARNING: using slow attention. Flash Attention atm needs PyTorch nightly and dropout=0.0\n",
      "WARNING: using slow attention. Flash Attention atm needs PyTorch nightly and dropout=0.0\n",
      "WARNING: using slow attention. Flash Attention atm needs PyTorch nightly and dropout=0.0\n",
      "WARNING: using slow attention. Flash Attention atm needs PyTorch nightly and dropout=0.0\n",
      "WARNING: using slow attention. Flash Attention atm needs PyTorch nightly and dropout=0.0\n",
      "number of parameters: 0.10M\n"
     ]
    }
   ],
   "source": [
    "config = convert_config(gpt_neox_config)\n",
    "model = GPT(config)\n",
    "sd = model.state_dict()\n"
   ]
  },
  {
   "cell_type": "code",
   "execution_count": 5,
   "metadata": {},
   "outputs": [
    {
     "data": {
      "text/plain": [
       "['transformer.wte.weight',\n",
       " 'transformer.h.0.ln_1.weight',\n",
       " 'transformer.h.0.ln_1.bias',\n",
       " 'transformer.h.0.attn.c_attn.weight',\n",
       " 'transformer.h.0.attn.c_attn.bias',\n",
       " 'transformer.h.0.attn.c_proj.weight',\n",
       " 'transformer.h.0.attn.c_proj.bias',\n",
       " 'transformer.h.0.ln_2.weight',\n",
       " 'transformer.h.0.ln_2.bias',\n",
       " 'transformer.h.0.mlp.c_fc.weight',\n",
       " 'transformer.h.0.mlp.c_fc.bias',\n",
       " 'transformer.h.0.mlp.c_proj.weight',\n",
       " 'transformer.h.0.mlp.c_proj.bias',\n",
       " 'transformer.h.1.ln_1.weight',\n",
       " 'transformer.h.1.ln_1.bias',\n",
       " 'transformer.h.1.attn.c_attn.weight',\n",
       " 'transformer.h.1.attn.c_attn.bias',\n",
       " 'transformer.h.1.attn.c_proj.weight',\n",
       " 'transformer.h.1.attn.c_proj.bias',\n",
       " 'transformer.h.1.ln_2.weight',\n",
       " 'transformer.h.1.ln_2.bias',\n",
       " 'transformer.h.1.mlp.c_fc.weight',\n",
       " 'transformer.h.1.mlp.c_fc.bias',\n",
       " 'transformer.h.1.mlp.c_proj.weight',\n",
       " 'transformer.h.1.mlp.c_proj.bias',\n",
       " 'transformer.h.2.ln_1.weight',\n",
       " 'transformer.h.2.ln_1.bias',\n",
       " 'transformer.h.2.attn.c_attn.weight',\n",
       " 'transformer.h.2.attn.c_attn.bias',\n",
       " 'transformer.h.2.attn.c_proj.weight',\n",
       " 'transformer.h.2.attn.c_proj.bias',\n",
       " 'transformer.h.2.ln_2.weight',\n",
       " 'transformer.h.2.ln_2.bias',\n",
       " 'transformer.h.2.mlp.c_fc.weight',\n",
       " 'transformer.h.2.mlp.c_fc.bias',\n",
       " 'transformer.h.2.mlp.c_proj.weight',\n",
       " 'transformer.h.2.mlp.c_proj.bias',\n",
       " 'transformer.h.3.ln_1.weight',\n",
       " 'transformer.h.3.ln_1.bias',\n",
       " 'transformer.h.3.attn.c_attn.weight',\n",
       " 'transformer.h.3.attn.c_attn.bias',\n",
       " 'transformer.h.3.attn.c_proj.weight',\n",
       " 'transformer.h.3.attn.c_proj.bias',\n",
       " 'transformer.h.3.ln_2.weight',\n",
       " 'transformer.h.3.ln_2.bias',\n",
       " 'transformer.h.3.mlp.c_fc.weight',\n",
       " 'transformer.h.3.mlp.c_fc.bias',\n",
       " 'transformer.h.3.mlp.c_proj.weight',\n",
       " 'transformer.h.3.mlp.c_proj.bias',\n",
       " 'transformer.h.4.ln_1.weight',\n",
       " 'transformer.h.4.ln_1.bias',\n",
       " 'transformer.h.4.attn.c_attn.weight',\n",
       " 'transformer.h.4.attn.c_attn.bias',\n",
       " 'transformer.h.4.attn.c_proj.weight',\n",
       " 'transformer.h.4.attn.c_proj.bias',\n",
       " 'transformer.h.4.ln_2.weight',\n",
       " 'transformer.h.4.ln_2.bias',\n",
       " 'transformer.h.4.mlp.c_fc.weight',\n",
       " 'transformer.h.4.mlp.c_fc.bias',\n",
       " 'transformer.h.4.mlp.c_proj.weight',\n",
       " 'transformer.h.4.mlp.c_proj.bias',\n",
       " 'transformer.ln_f.weight',\n",
       " 'transformer.ln_f.bias',\n",
       " 'lm_head.weight']"
      ]
     },
     "execution_count": 5,
     "metadata": {},
     "output_type": "execute_result"
    }
   ],
   "source": [
    "sd_keys = sd.keys()\n",
    "sd_keys = [k for k in sd_keys if not k.endswith('.attn.bias')] # discard this mask / buffer, not a param\n",
    "sd_keys"
   ]
  },
  {
   "cell_type": "code",
   "execution_count": 6,
   "metadata": {},
   "outputs": [],
   "source": [
    "\n",
    "# init a huggingface/transformers model\n",
    "sd_hf = model_hf.state_dict()\n"
   ]
  },
  {
   "cell_type": "code",
   "execution_count": 16,
   "metadata": {},
   "outputs": [],
   "source": [
    "\n",
    "# copy while ensuring all of the parameters are aligned and match in names and shapes\n",
    "sd_keys_hf = sd_hf.keys()\n",
    "sd_keys_hf = [k for k in sd_keys_hf if not k.endswith('.attention.masked_bias')] # ignore these, just a buffer\n",
    "sd_keys_hf = [k for k in sd_keys_hf if not k.endswith('.attention.bias')] # same, just the mask (buffer)\n",
    "sd_keys_hf = [k for k in sd_keys_hf if not k.endswith('.rotary_emb.inv_freq')] # same, just the mask (buffer)\n"
   ]
  },
  {
   "cell_type": "code",
   "execution_count": 18,
   "metadata": {},
   "outputs": [
    {
     "data": {
      "text/plain": [
       "['gpt_neox.embed_in.weight',\n",
       " 'gpt_neox.layers.0.input_layernorm.weight',\n",
       " 'gpt_neox.layers.0.input_layernorm.bias',\n",
       " 'gpt_neox.layers.0.post_attention_layernorm.weight',\n",
       " 'gpt_neox.layers.0.post_attention_layernorm.bias',\n",
       " 'gpt_neox.layers.0.attention.query_key_value.weight',\n",
       " 'gpt_neox.layers.0.attention.query_key_value.bias',\n",
       " 'gpt_neox.layers.0.attention.dense.weight',\n",
       " 'gpt_neox.layers.0.attention.dense.bias',\n",
       " 'gpt_neox.layers.0.mlp.dense_h_to_4h.weight',\n",
       " 'gpt_neox.layers.0.mlp.dense_h_to_4h.bias',\n",
       " 'gpt_neox.layers.0.mlp.dense_4h_to_h.weight',\n",
       " 'gpt_neox.layers.0.mlp.dense_4h_to_h.bias',\n",
       " 'gpt_neox.layers.1.input_layernorm.weight',\n",
       " 'gpt_neox.layers.1.input_layernorm.bias',\n",
       " 'gpt_neox.layers.1.post_attention_layernorm.weight',\n",
       " 'gpt_neox.layers.1.post_attention_layernorm.bias',\n",
       " 'gpt_neox.layers.1.attention.query_key_value.weight',\n",
       " 'gpt_neox.layers.1.attention.query_key_value.bias',\n",
       " 'gpt_neox.layers.1.attention.dense.weight',\n",
       " 'gpt_neox.layers.1.attention.dense.bias',\n",
       " 'gpt_neox.layers.1.mlp.dense_h_to_4h.weight',\n",
       " 'gpt_neox.layers.1.mlp.dense_h_to_4h.bias',\n",
       " 'gpt_neox.layers.1.mlp.dense_4h_to_h.weight',\n",
       " 'gpt_neox.layers.1.mlp.dense_4h_to_h.bias',\n",
       " 'gpt_neox.layers.2.input_layernorm.weight',\n",
       " 'gpt_neox.layers.2.input_layernorm.bias',\n",
       " 'gpt_neox.layers.2.post_attention_layernorm.weight',\n",
       " 'gpt_neox.layers.2.post_attention_layernorm.bias',\n",
       " 'gpt_neox.layers.2.attention.query_key_value.weight',\n",
       " 'gpt_neox.layers.2.attention.query_key_value.bias',\n",
       " 'gpt_neox.layers.2.attention.dense.weight',\n",
       " 'gpt_neox.layers.2.attention.dense.bias',\n",
       " 'gpt_neox.layers.2.mlp.dense_h_to_4h.weight',\n",
       " 'gpt_neox.layers.2.mlp.dense_h_to_4h.bias',\n",
       " 'gpt_neox.layers.2.mlp.dense_4h_to_h.weight',\n",
       " 'gpt_neox.layers.2.mlp.dense_4h_to_h.bias',\n",
       " 'gpt_neox.layers.3.input_layernorm.weight',\n",
       " 'gpt_neox.layers.3.input_layernorm.bias',\n",
       " 'gpt_neox.layers.3.post_attention_layernorm.weight',\n",
       " 'gpt_neox.layers.3.post_attention_layernorm.bias',\n",
       " 'gpt_neox.layers.3.attention.query_key_value.weight',\n",
       " 'gpt_neox.layers.3.attention.query_key_value.bias',\n",
       " 'gpt_neox.layers.3.attention.dense.weight',\n",
       " 'gpt_neox.layers.3.attention.dense.bias',\n",
       " 'gpt_neox.layers.3.mlp.dense_h_to_4h.weight',\n",
       " 'gpt_neox.layers.3.mlp.dense_h_to_4h.bias',\n",
       " 'gpt_neox.layers.3.mlp.dense_4h_to_h.weight',\n",
       " 'gpt_neox.layers.3.mlp.dense_4h_to_h.bias',\n",
       " 'gpt_neox.layers.4.input_layernorm.weight',\n",
       " 'gpt_neox.layers.4.input_layernorm.bias',\n",
       " 'gpt_neox.layers.4.post_attention_layernorm.weight',\n",
       " 'gpt_neox.layers.4.post_attention_layernorm.bias',\n",
       " 'gpt_neox.layers.4.attention.query_key_value.weight',\n",
       " 'gpt_neox.layers.4.attention.query_key_value.bias',\n",
       " 'gpt_neox.layers.4.attention.dense.weight',\n",
       " 'gpt_neox.layers.4.attention.dense.bias',\n",
       " 'gpt_neox.layers.4.mlp.dense_h_to_4h.weight',\n",
       " 'gpt_neox.layers.4.mlp.dense_h_to_4h.bias',\n",
       " 'gpt_neox.layers.4.mlp.dense_4h_to_h.weight',\n",
       " 'gpt_neox.layers.4.mlp.dense_4h_to_h.bias',\n",
       " 'gpt_neox.final_layer_norm.weight',\n",
       " 'gpt_neox.final_layer_norm.bias',\n",
       " 'embed_out.weight']"
      ]
     },
     "execution_count": 18,
     "metadata": {},
     "output_type": "execute_result"
    }
   ],
   "source": [
    "sd_keys_hf"
   ]
  },
  {
   "cell_type": "code",
   "execution_count": 28,
   "metadata": {},
   "outputs": [],
   "source": [
    "def rename_key(k):\n",
    "    k = k.replace('gpt_neox.layers', 'transformer.h')\n",
    "    # Attention\n",
    "    k = k.replace('.attention.dense.', '.attn.c_proj.')\n",
    "    k = k.replace('.attention.query_key_value.', '.attn.c_attn.')\n",
    "    # MLP\n",
    "    k = k.replace('.mlp.dense_h_to_4h.', '.mlp.c_fc.')\n",
    "    k = k.replace('.mlp.dense_4h_to_h.', '.mlp.c_proj.')\n",
    "    # LayerNorm\n",
    "    k = k.replace('.input_layernorm.', '.ln_1.')\n",
    "    k = k.replace('.post_attention_layernorm.', '.ln_2.')\n",
    "    # Embedding\n",
    "    k = k.replace('gpt_neox.embed_in.', 'transformer.wte.')\n",
    "    k = k.replace('gpt_neox.final_layer_norm.', 'transformer.ln_f.')\n",
    "    k = k.replace('embed_out.', 'lm_head.')\n",
    "    return k\n"
   ]
  },
  {
   "cell_type": "code",
   "execution_count": 29,
   "metadata": {},
   "outputs": [
    {
     "name": "stdout",
     "output_type": "stream",
     "text": [
      "transformer.wte.weight gpt_neox.embed_in.weight\n",
      "transformer.h.0.ln_1.weight gpt_neox.layers.0.input_layernorm.weight\n",
      "transformer.h.0.ln_1.bias gpt_neox.layers.0.input_layernorm.bias\n",
      "transformer.h.0.ln_2.weight gpt_neox.layers.0.post_attention_layernorm.weight\n",
      "transformer.h.0.ln_2.bias gpt_neox.layers.0.post_attention_layernorm.bias\n",
      "transformer.h.0.attn.c_attn.weight gpt_neox.layers.0.attention.query_key_value.weight\n",
      "transformer.h.0.attn.c_attn.bias gpt_neox.layers.0.attention.query_key_value.bias\n",
      "transformer.h.0.attn.c_proj.weight gpt_neox.layers.0.attention.dense.weight\n",
      "transformer.h.0.attn.c_proj.bias gpt_neox.layers.0.attention.dense.bias\n",
      "transformer.h.0.mlp.c_fc.weight gpt_neox.layers.0.mlp.dense_h_to_4h.weight\n"
     ]
    },
    {
     "ename": "AssertionError",
     "evalue": "",
     "output_type": "error",
     "traceback": [
      "\u001b[0;31m---------------------------------------------------------------------------\u001b[0m",
      "\u001b[0;31mAssertionError\u001b[0m                            Traceback (most recent call last)",
      "Cell \u001b[0;32mIn [29], line 8\u001b[0m\n\u001b[1;32m      6\u001b[0m new_k \u001b[39m=\u001b[39m rename_key(k)\n\u001b[1;32m      7\u001b[0m \u001b[39mprint\u001b[39m(new_k, k)\n\u001b[0;32m----> 8\u001b[0m \u001b[39massert\u001b[39;00m sd_hf[k]\u001b[39m.\u001b[39mshape \u001b[39m==\u001b[39m sd[new_k]\u001b[39m.\u001b[39mshape\n\u001b[1;32m      9\u001b[0m \u001b[39mwith\u001b[39;00m torch\u001b[39m.\u001b[39mno_grad():\n\u001b[1;32m     10\u001b[0m     sd[new_k]\u001b[39m.\u001b[39mcopy_(sd_hf[k])\n",
      "\u001b[0;31mAssertionError\u001b[0m: "
     ]
    }
   ],
   "source": [
    "import torch\n",
    "\n",
    "assert len(sd_keys_hf) == len(sd_keys), f\"mismatched keys: {len(sd_keys_hf)} != {len(sd_keys)}\"\n",
    "for k in sd_keys_hf:\n",
    "    # vanilla copy over the other parameters\n",
    "    new_k = rename_key(k)\n",
    "    print(new_k, k)\n",
    "    assert sd_hf[k].shape == sd[new_k].shape\n",
    "    with torch.no_grad():\n",
    "        sd[new_k].copy_(sd_hf[k])\n",
    "\n"
   ]
  }
 ],
 "metadata": {
  "kernelspec": {
   "display_name": "Python 3",
   "language": "python",
   "name": "python3"
  },
  "language_info": {
   "codemirror_mode": {
    "name": "ipython",
    "version": 3
   },
   "file_extension": ".py",
   "mimetype": "text/x-python",
   "name": "python",
   "nbconvert_exporter": "python",
   "pygments_lexer": "ipython3",
   "version": "3.10.6"
  },
  "orig_nbformat": 4,
  "vscode": {
   "interpreter": {
    "hash": "b66dbdb614bfd022b649975f993762ad232399f75e8f30cb9176d485ed5b8487"
   }
  }
 },
 "nbformat": 4,
 "nbformat_minor": 2
}
