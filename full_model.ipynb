{
 "cells": [
  {
   "cell_type": "code",
   "execution_count": 3,
   "metadata": {},
   "outputs": [
    {
     "name": "stdout",
     "output_type": "stream",
     "text": [
      "16 2048 10000\n",
      "tensor([1.0000e+00, 3.1623e-01, 1.0000e-01, 3.1623e-02, 1.0000e-02, 3.1623e-03,\n",
      "        1.0000e-03, 3.1623e-04])\n",
      "16 2048 10000\n",
      "tensor([1.0000e+00, 3.1623e-01, 1.0000e-01, 3.1623e-02, 1.0000e-02, 3.1623e-03,\n",
      "        1.0000e-03, 3.1623e-04])\n",
      "16 2048 10000\n",
      "tensor([1.0000e+00, 3.1623e-01, 1.0000e-01, 3.1623e-02, 1.0000e-02, 3.1623e-03,\n",
      "        1.0000e-03, 3.1623e-04])\n",
      "16 2048 10000\n",
      "tensor([1.0000e+00, 3.1623e-01, 1.0000e-01, 3.1623e-02, 1.0000e-02, 3.1623e-03,\n",
      "        1.0000e-03, 3.1623e-04])\n",
      "16 2048 10000\n",
      "tensor([1.0000e+00, 3.1623e-01, 1.0000e-01, 3.1623e-02, 1.0000e-02, 3.1623e-03,\n",
      "        1.0000e-03, 3.1623e-04])\n",
      "16 2048 10000\n",
      "tensor([1.0000e+00, 3.1623e-01, 1.0000e-01, 3.1623e-02, 1.0000e-02, 3.1623e-03,\n",
      "        1.0000e-03, 3.1623e-04])\n"
     ]
    }
   ],
   "source": [
    "from modeling_gpt_neox import GPTNeoXForCausalLM\n",
    "model_hf = GPTNeoXForCausalLM.from_pretrained(\"EleutherAI/pythia-70m\")"
   ]
  },
  {
   "cell_type": "code",
   "execution_count": 4,
   "metadata": {},
   "outputs": [
    {
     "data": {
      "text/plain": [
       "GPTNeoXConfig {\n",
       "  \"_name_or_path\": \"EleutherAI/pythia-70m\",\n",
       "  \"architectures\": [\n",
       "    \"GPTNeoXForCausalLM\"\n",
       "  ],\n",
       "  \"bos_token_id\": 0,\n",
       "  \"eos_token_id\": 0,\n",
       "  \"hidden_act\": \"gelu\",\n",
       "  \"hidden_size\": 512,\n",
       "  \"initializer_range\": 0.02,\n",
       "  \"intermediate_size\": 2048,\n",
       "  \"layer_norm_eps\": 1e-05,\n",
       "  \"max_position_embeddings\": 2048,\n",
       "  \"model_type\": \"gpt_neox\",\n",
       "  \"num_attention_heads\": 8,\n",
       "  \"num_hidden_layers\": 6,\n",
       "  \"rotary_emb_base\": 10000,\n",
       "  \"rotary_pct\": 0.25,\n",
       "  \"tie_word_embeddings\": false,\n",
       "  \"torch_dtype\": \"float16\",\n",
       "  \"transformers_version\": \"4.25.1\",\n",
       "  \"use_cache\": true,\n",
       "  \"use_parallel_residual\": true,\n",
       "  \"vocab_size\": 50304\n",
       "}"
      ]
     },
     "execution_count": 4,
     "metadata": {},
     "output_type": "execute_result"
    }
   ],
   "source": [
    "gpt_neox_config = model_hf.config\n",
    "gpt_neox_config"
   ]
  },
  {
   "cell_type": "code",
   "execution_count": 5,
   "metadata": {},
   "outputs": [],
   "source": [
    "from model import GPTConfig, GPT\n",
    "\n",
    "def convert_config(gpt_neox_config):\n",
    "    # assert gpt_neox_config.use_parallel_residual\n",
    "    \n",
    "    return GPTConfig(\n",
    "        n_embd = gpt_neox_config.hidden_size,\n",
    "        n_head = gpt_neox_config.num_attention_heads,\n",
    "        n_layer = gpt_neox_config.num_hidden_layers,\n",
    "        vocab_size = gpt_neox_config.vocab_size,\n",
    "        block_size = gpt_neox_config.max_position_embeddings,\n",
    "        bias = True,\n",
    "        dropout= 0.0,\n",
    "        \n",
    "        n_embd_proj = gpt_neox_config.intermediate_size,\n",
    "        rotary_pct = gpt_neox_config.rotary_pct,\n",
    "        \n",
    "    )\n",
    "    \n",
    "gpt_config = convert_config(gpt_neox_config)"
   ]
  },
  {
   "cell_type": "code",
   "execution_count": 6,
   "metadata": {},
   "outputs": [
    {
     "name": "stdout",
     "output_type": "stream",
     "text": [
      "WARNING: using slow attention. Flash Attention atm needs PyTorch nightly and dropout=0.0\n",
      "WARNING: using slow attention. Flash Attention atm needs PyTorch nightly and dropout=0.0\n",
      "WARNING: using slow attention. Flash Attention atm needs PyTorch nightly and dropout=0.0\n",
      "WARNING: using slow attention. Flash Attention atm needs PyTorch nightly and dropout=0.0\n",
      "WARNING: using slow attention. Flash Attention atm needs PyTorch nightly and dropout=0.0\n",
      "WARNING: using slow attention. Flash Attention atm needs PyTorch nightly and dropout=0.0\n",
      "number of parameters: 70.43M\n"
     ]
    }
   ],
   "source": [
    "config = convert_config(gpt_neox_config)\n",
    "model = GPT(config)\n",
    "sd = model.state_dict()\n"
   ]
  },
  {
   "cell_type": "code",
   "execution_count": 7,
   "metadata": {},
   "outputs": [],
   "source": [
    "sd_keys = sd.keys()\n",
    "sd_keys = [k for k in sd_keys if not k.endswith('.attn.bias')] # discard this mask / buffer, not a param\n",
    "\n",
    "sd_keys = [k for k in sd_keys if not k.endswith('.attn.rotary_emb.freqs')] # discard this mask / buffer, not a param\n",
    "sd_keys = [k for k in sd_keys if not k.endswith('.attn.rotary_emb.scale')] # discard this mask / buffer, not a param\n",
    "sd_keys = [k for k in sd_keys if not k.endswith('.attn.rotary_emb.inv_freq')] # discard this mask / buffer, not a param"
   ]
  },
  {
   "cell_type": "code",
   "execution_count": 8,
   "metadata": {},
   "outputs": [],
   "source": [
    "\n",
    "# init a huggingface/transformers model\n",
    "sd_hf = model_hf.state_dict()\n"
   ]
  },
  {
   "cell_type": "code",
   "execution_count": 9,
   "metadata": {},
   "outputs": [],
   "source": [
    "\n",
    "# copy while ensuring all of the parameters are aligned and match in names and shapes\n",
    "sd_keys_hf = sd_hf.keys()\n",
    "sd_keys_hf = [k for k in sd_keys_hf if not k.endswith('.attention.masked_bias')] # ignore these, just a buffer\n",
    "sd_keys_hf = [k for k in sd_keys_hf if not k.endswith('.attention.bias')] # same, just the mask (buffer)\n",
    "sd_keys_hf = [k for k in sd_keys_hf if not k.endswith('.rotary_emb.inv_freq')] # same, just the mask (buffer)\n"
   ]
  },
  {
   "cell_type": "code",
   "execution_count": 10,
   "metadata": {},
   "outputs": [],
   "source": [
    "def rename_key(k):\n",
    "    k = k.replace('gpt_neox.layers', 'transformer.h')\n",
    "    # Attention\n",
    "    k = k.replace('.attention.dense.', '.attn.c_proj.')\n",
    "    k = k.replace('.attention.query_key_value.', '.attn.c_attn.')\n",
    "    # MLP\n",
    "    k = k.replace('.mlp.dense_h_to_4h.', '.mlp.c_fc.')\n",
    "    k = k.replace('.mlp.dense_4h_to_h.', '.mlp.c_proj.')\n",
    "    # LayerNorm\n",
    "    k = k.replace('.input_layernorm.', '.ln_1.')\n",
    "    k = k.replace('.post_attention_layernorm.', '.ln_2.')\n",
    "    # Embedding\n",
    "    k = k.replace('gpt_neox.embed_in.', 'transformer.wte.')\n",
    "    k = k.replace('gpt_neox.final_layer_norm.', 'transformer.ln_f.')\n",
    "    k = k.replace('embed_out.', 'lm_head.')\n",
    "    return k\n"
   ]
  },
  {
   "cell_type": "code",
   "execution_count": 11,
   "metadata": {},
   "outputs": [],
   "source": [
    "import torch\n",
    "\n",
    "assert len(sd_keys_hf) == len(sd_keys), f\"mismatched keys: {len(sd_keys_hf)} != {len(sd_keys)}\"\n",
    "for k in sd_keys_hf:\n",
    "    # vanilla copy over the other parameters\n",
    "    new_k = rename_key(k)\n",
    "    # print(new_k, k)\n",
    "    assert sd_hf[k].shape == sd[new_k].shape\n",
    "    with torch.no_grad():\n",
    "        sd[new_k].copy_(sd_hf[k])\n"
   ]
  },
  {
   "cell_type": "code",
   "execution_count": 12,
   "metadata": {},
   "outputs": [],
   "source": [
    "input_ids = torch.randint(0, 1000, (1, 512))\n",
    "target_ids = torch.randint(0, 1000, (1, 512))\n",
    "\n",
    "model_hf.train()\n",
    "model.train()\n",
    "\n",
    "x = model_hf(input_ids, labels=target_ids)\n",
    "y = model(input_ids, target_ids)"
   ]
  },
  {
   "cell_type": "code",
   "execution_count": 13,
   "metadata": {},
   "outputs": [
    {
     "data": {
      "text/plain": [
       "tensor([[[84.8101, 52.7323, 84.5987,  ..., 52.7321, 52.7307, 52.7329],\n",
       "         [92.6708, 56.9197, 94.8555,  ..., 56.9199, 56.9172, 56.9210],\n",
       "         [87.4568, 54.4841, 88.2387,  ..., 54.4840, 54.4823, 54.4859],\n",
       "         ...,\n",
       "         [95.2659, 60.2413, 95.4781,  ..., 60.2418, 60.2400, 60.2432],\n",
       "         [89.7589, 57.7161, 89.9661,  ..., 57.7169, 57.7153, 57.7189],\n",
       "         [92.8971, 58.3084, 93.5553,  ..., 58.3086, 58.3065, 58.3105]]],\n",
       "       grad_fn=<UnsafeViewBackward0>)"
      ]
     },
     "execution_count": 13,
     "metadata": {},
     "output_type": "execute_result"
    }
   ],
   "source": [
    "x.logits"
   ]
  },
  {
   "cell_type": "code",
   "execution_count": 14,
   "metadata": {},
   "outputs": [
    {
     "data": {
      "text/plain": [
       "tensor([[[84.8101, 52.7323, 84.5987,  ..., 52.7321, 52.7307, 52.7329],\n",
       "         [92.6708, 56.9197, 94.8555,  ..., 56.9199, 56.9172, 56.9210],\n",
       "         [87.4568, 54.4841, 88.2387,  ..., 54.4840, 54.4823, 54.4859],\n",
       "         ...,\n",
       "         [95.2659, 60.2413, 95.4781,  ..., 60.2418, 60.2400, 60.2432],\n",
       "         [89.7589, 57.7161, 89.9661,  ..., 57.7169, 57.7153, 57.7189],\n",
       "         [92.8971, 58.3084, 93.5553,  ..., 58.3086, 58.3065, 58.3105]]],\n",
       "       grad_fn=<UnsafeViewBackward0>)"
      ]
     },
     "execution_count": 14,
     "metadata": {},
     "output_type": "execute_result"
    }
   ],
   "source": [
    "y[0]"
   ]
  },
  {
   "cell_type": "code",
   "execution_count": 15,
   "metadata": {},
   "outputs": [
    {
     "data": {
      "text/plain": [
       "True"
      ]
     },
     "execution_count": 15,
     "metadata": {},
     "output_type": "execute_result"
    }
   ],
   "source": [
    "torch.allclose(x.logits, y[0])"
   ]
  },
  {
   "cell_type": "code",
   "execution_count": 16,
   "metadata": {},
   "outputs": [
    {
     "data": {
      "text/plain": [
       "True"
      ]
     },
     "execution_count": 16,
     "metadata": {},
     "output_type": "execute_result"
    }
   ],
   "source": [
    "tok_emb = model.transformer.wte(input_ids) # token embeddings of shape (b, t, n_embd)\n",
    "inputs_embeds = model_hf.gpt_neox.embed_in(input_ids)\n",
    "\n",
    "torch.allclose(tok_emb, inputs_embeds)"
   ]
  },
  {
   "cell_type": "code",
   "execution_count": 18,
   "metadata": {},
   "outputs": [
    {
     "name": "stdout",
     "output_type": "stream",
     "text": [
      "0\n",
      "True\n",
      "1\n",
      "True\n",
      "2\n",
      "True\n",
      "3\n",
      "True\n",
      "4\n",
      "True\n",
      "5\n",
      "True\n"
     ]
    }
   ],
   "source": [
    "\n",
    "hidden = tok_emb\n",
    "for i in range(6):\n",
    "    print(i)\n",
    "    # h1 = model.transformer.h[i](hidden)\n",
    "    # h2 = model_hf.gpt_neox.layers[i](hidden)[0]\n",
    "    \n",
    "    v1 = model.transformer.h[i].ln_1(hidden)\n",
    "    v2 = model_hf.gpt_neox.layers[i].input_layernorm(hidden)\n",
    "    \n",
    "    h1 = model.transformer.h[i].attn(v1)\n",
    "    h2 = model_hf.gpt_neox.layers[i].attention(v2)[0]\n",
    "    \n",
    "    # print(h1, h2)\n",
    "    print(torch.allclose(h1, h2))\n",
    "    hidden = h1\n",
    "    # print(h1 - h2)"
   ]
  }
 ],
 "metadata": {
  "kernelspec": {
   "display_name": "Python 3",
   "language": "python",
   "name": "python3"
  },
  "language_info": {
   "codemirror_mode": {
    "name": "ipython",
    "version": 3
   },
   "file_extension": ".py",
   "mimetype": "text/x-python",
   "name": "python",
   "nbconvert_exporter": "python",
   "pygments_lexer": "ipython3",
   "version": "3.10.6"
  },
  "orig_nbformat": 4,
  "vscode": {
   "interpreter": {
    "hash": "b66dbdb614bfd022b649975f993762ad232399f75e8f30cb9176d485ed5b8487"
   }
  }
 },
 "nbformat": 4,
 "nbformat_minor": 2
}
