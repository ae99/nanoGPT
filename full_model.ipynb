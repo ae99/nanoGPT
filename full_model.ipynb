{
 "cells": [
  {
   "cell_type": "code",
   "execution_count": 1,
   "metadata": {},
   "outputs": [
    {
     "name": "stdout",
     "output_type": "stream",
     "text": [
      "16 2048 10000\n",
      "tensor([1.0000e+00, 3.1623e-01, 1.0000e-01, 3.1623e-02, 1.0000e-02, 3.1623e-03,\n",
      "        1.0000e-03, 3.1623e-04])\n",
      "16 2048 10000\n",
      "tensor([1.0000e+00, 3.1623e-01, 1.0000e-01, 3.1623e-02, 1.0000e-02, 3.1623e-03,\n",
      "        1.0000e-03, 3.1623e-04])\n",
      "16 2048 10000\n",
      "tensor([1.0000e+00, 3.1623e-01, 1.0000e-01, 3.1623e-02, 1.0000e-02, 3.1623e-03,\n",
      "        1.0000e-03, 3.1623e-04])\n",
      "16 2048 10000\n",
      "tensor([1.0000e+00, 3.1623e-01, 1.0000e-01, 3.1623e-02, 1.0000e-02, 3.1623e-03,\n",
      "        1.0000e-03, 3.1623e-04])\n",
      "16 2048 10000\n",
      "tensor([1.0000e+00, 3.1623e-01, 1.0000e-01, 3.1623e-02, 1.0000e-02, 3.1623e-03,\n",
      "        1.0000e-03, 3.1623e-04])\n",
      "16 2048 10000\n",
      "tensor([1.0000e+00, 3.1623e-01, 1.0000e-01, 3.1623e-02, 1.0000e-02, 3.1623e-03,\n",
      "        1.0000e-03, 3.1623e-04])\n"
     ]
    }
   ],
   "source": [
    "from modeling_gpt_neox import GPTNeoXForCausalLM\n",
    "model_hf = GPTNeoXForCausalLM.from_pretrained(\"EleutherAI/pythia-70m\")"
   ]
  },
  {
   "cell_type": "code",
   "execution_count": 2,
   "metadata": {},
   "outputs": [
    {
     "data": {
      "text/plain": [
       "GPTNeoXConfig {\n",
       "  \"_name_or_path\": \"EleutherAI/pythia-70m\",\n",
       "  \"architectures\": [\n",
       "    \"GPTNeoXForCausalLM\"\n",
       "  ],\n",
       "  \"bos_token_id\": 0,\n",
       "  \"eos_token_id\": 0,\n",
       "  \"hidden_act\": \"gelu\",\n",
       "  \"hidden_size\": 512,\n",
       "  \"initializer_range\": 0.02,\n",
       "  \"intermediate_size\": 2048,\n",
       "  \"layer_norm_eps\": 1e-05,\n",
       "  \"max_position_embeddings\": 2048,\n",
       "  \"model_type\": \"gpt_neox\",\n",
       "  \"num_attention_heads\": 8,\n",
       "  \"num_hidden_layers\": 6,\n",
       "  \"rotary_emb_base\": 10000,\n",
       "  \"rotary_pct\": 0.25,\n",
       "  \"tie_word_embeddings\": false,\n",
       "  \"torch_dtype\": \"float16\",\n",
       "  \"transformers_version\": \"4.25.1\",\n",
       "  \"use_cache\": true,\n",
       "  \"use_parallel_residual\": true,\n",
       "  \"vocab_size\": 50304\n",
       "}"
      ]
     },
     "execution_count": 2,
     "metadata": {},
     "output_type": "execute_result"
    }
   ],
   "source": [
    "gpt_neox_config = model_hf.config\n",
    "gpt_neox_config"
   ]
  },
  {
   "cell_type": "code",
   "execution_count": 3,
   "metadata": {},
   "outputs": [],
   "source": [
    "from model import GPTConfig, GPT\n",
    "\n",
    "def convert_config(gpt_neox_config):\n",
    "    # assert gpt_neox_config.use_parallel_residual\n",
    "    \n",
    "    return GPTConfig(\n",
    "        n_embd = gpt_neox_config.hidden_size,\n",
    "        n_head = gpt_neox_config.num_attention_heads,\n",
    "        n_layer = gpt_neox_config.num_hidden_layers,\n",
    "        vocab_size = gpt_neox_config.vocab_size,\n",
    "        block_size = gpt_neox_config.max_position_embeddings,\n",
    "        bias = True,\n",
    "        dropout= 0.0,\n",
    "        \n",
    "        n_embd_proj = gpt_neox_config.intermediate_size,\n",
    "        rotary_pct = gpt_neox_config.rotary_pct,\n",
    "        \n",
    "    )\n",
    "    \n",
    "gpt_config = convert_config(gpt_neox_config)"
   ]
  },
  {
   "cell_type": "code",
   "execution_count": 4,
   "metadata": {},
   "outputs": [
    {
     "name": "stdout",
     "output_type": "stream",
     "text": [
      "WARNING: using slow attention. Flash Attention atm needs PyTorch nightly and dropout=0.0\n",
      "WARNING: using slow attention. Flash Attention atm needs PyTorch nightly and dropout=0.0\n",
      "WARNING: using slow attention. Flash Attention atm needs PyTorch nightly and dropout=0.0\n",
      "WARNING: using slow attention. Flash Attention atm needs PyTorch nightly and dropout=0.0\n",
      "WARNING: using slow attention. Flash Attention atm needs PyTorch nightly and dropout=0.0\n",
      "WARNING: using slow attention. Flash Attention atm needs PyTorch nightly and dropout=0.0\n",
      "number of parameters: 70.43M\n"
     ]
    }
   ],
   "source": [
    "config = convert_config(gpt_neox_config)\n",
    "model = GPT(config)\n",
    "sd = model.state_dict()\n"
   ]
  },
  {
   "cell_type": "code",
   "execution_count": 17,
   "metadata": {},
   "outputs": [],
   "source": [
    "sd_keys = sd.keys()\n",
    "sd_keys = [k for k in sd_keys if not k.endswith('.attn.bias')] # discard this mask / buffer, not a param\n",
    "\n",
    "sd_keys = [k for k in sd_keys if not k.endswith('.attn.rotary_emb.freqs')] # discard this mask / buffer, not a param\n",
    "sd_keys = [k for k in sd_keys if not k.endswith('.attn.rotary_emb.scale')] # discard this mask / buffer, not a param\n",
    "sd_keys = [k for k in sd_keys if not k.endswith('.attn.rotary_emb.inv_freq')] # discard this mask / buffer, not a param\n",
    "sd_keys = [k for k in sd_keys if not k.endswith('.attn.rotary_emb.cos_cached')] # discard this mask / buffer, not a param\n",
    "sd_keys = [k for k in sd_keys if not k.endswith('.attn.rotary_emb.sin_cached')] # discard this mask / buffer, not a param"
   ]
  },
  {
   "cell_type": "code",
   "execution_count": 6,
   "metadata": {},
   "outputs": [],
   "source": [
    "\n",
    "# init a huggingface/transformers model\n",
    "sd_hf = model_hf.state_dict()\n"
   ]
  },
  {
   "cell_type": "code",
   "execution_count": 18,
   "metadata": {},
   "outputs": [],
   "source": [
    "\n",
    "# copy while ensuring all of the parameters are aligned and match in names and shapes\n",
    "sd_keys_hf = sd_hf.keys()\n",
    "sd_keys_hf = [k for k in sd_keys_hf if not k.endswith('.attention.masked_bias')] # ignore these, just a buffer\n",
    "sd_keys_hf = [k for k in sd_keys_hf if not k.endswith('.attention.bias')] # same, just the mask (buffer)\n",
    "sd_keys_hf = [k for k in sd_keys_hf if not k.endswith('.rotary_emb.inv_freq')] # same, just the mask (buffer)\n"
   ]
  },
  {
   "cell_type": "code",
   "execution_count": 19,
   "metadata": {},
   "outputs": [],
   "source": [
    "def rename_key(k):\n",
    "    k = k.replace('gpt_neox.layers', 'transformer.h')\n",
    "    # Attention\n",
    "    k = k.replace('.attention.dense.', '.attn.c_proj.')\n",
    "    k = k.replace('.attention.query_key_value.', '.attn.c_attn.')\n",
    "    # MLP\n",
    "    k = k.replace('.mlp.dense_h_to_4h.', '.mlp.c_fc.')\n",
    "    k = k.replace('.mlp.dense_4h_to_h.', '.mlp.c_proj.')\n",
    "    # LayerNorm\n",
    "    k = k.replace('.input_layernorm.', '.ln_1.')\n",
    "    k = k.replace('.post_attention_layernorm.', '.ln_2.')\n",
    "    # Embedding\n",
    "    k = k.replace('gpt_neox.embed_in.', 'transformer.wte.')\n",
    "    k = k.replace('gpt_neox.final_layer_norm.', 'transformer.ln_f.')\n",
    "    k = k.replace('embed_out.', 'lm_head.')\n",
    "    return k\n"
   ]
  },
  {
   "cell_type": "code",
   "execution_count": 20,
   "metadata": {},
   "outputs": [],
   "source": [
    "import torch\n",
    "\n",
    "assert len(sd_keys_hf) == len(sd_keys), f\"mismatched keys: {len(sd_keys_hf)} != {len(sd_keys)}\"\n",
    "for k in sd_keys_hf:\n",
    "    # vanilla copy over the other parameters\n",
    "    new_k = rename_key(k)\n",
    "    # print(new_k, k)\n",
    "    assert sd_hf[k].shape == sd[new_k].shape\n",
    "    with torch.no_grad():\n",
    "        sd[new_k].copy_(sd_hf[k])\n"
   ]
  },
  {
   "cell_type": "code",
   "execution_count": 21,
   "metadata": {},
   "outputs": [],
   "source": [
    "input_ids = torch.randint(0, 1000, (1, 512))\n",
    "target_ids = torch.randint(0, 1000, (1, 512))\n",
    "\n",
    "model_hf.train()\n",
    "model.train()\n",
    "\n",
    "x = model_hf(input_ids, labels=target_ids)\n",
    "y = model(input_ids, target_ids)"
   ]
  },
  {
   "cell_type": "code",
   "execution_count": 25,
   "metadata": {},
   "outputs": [
    {
     "data": {
      "text/plain": [
       "True"
      ]
     },
     "execution_count": 25,
     "metadata": {},
     "output_type": "execute_result"
    }
   ],
   "source": [
    "torch.allclose(x.logits, y[0])"
   ]
  },
  {
   "cell_type": "code",
   "execution_count": 33,
   "metadata": {},
   "outputs": [
    {
     "data": {
      "text/plain": [
       "tensor([[   42,  1353,   253, 22583,   637,  9338,   344,   753]])"
      ]
     },
     "execution_count": 33,
     "metadata": {},
     "output_type": "execute_result"
    }
   ],
   "source": [
    "# generate a sample\n",
    "from transformers import GPTNeoXTokenizerFast\n",
    "\n",
    "tokenizer = GPTNeoXTokenizerFast.from_pretrained(\"EleutherAI/pythia-70m\")\n",
    "\n",
    "model.eval()\n",
    "model_hf.eval()\n"
   ]
  },
  {
   "cell_type": "code",
   "execution_count": 94,
   "metadata": {},
   "outputs": [
    {
     "data": {
      "text/plain": [
       "\"It's no wonder that the government has been so much more than a year.\\n\\nThe government has been\""
      ]
     },
     "execution_count": 94,
     "metadata": {},
     "output_type": "execute_result"
    }
   ],
   "source": [
    "input_ids = tokenizer.encode(\"It's no wonder that the\", return_tensors=\"pt\")\n",
    "output = model.generate(input_ids, 16, top_k=1)\n",
    "tokenizer.decode(output[0])"
   ]
  },
  {
   "cell_type": "code",
   "execution_count": 93,
   "metadata": {},
   "outputs": [
    {
     "name": "stderr",
     "output_type": "stream",
     "text": [
      "The attention mask and the pad token id were not set. As a consequence, you may observe unexpected behavior. Please pass your input's `attention_mask` to obtain reliable results.\n",
      "Setting `pad_token_id` to `eos_token_id`:0 for open-end generation.\n"
     ]
    },
    {
     "data": {
      "text/plain": [
       "\"It's no wonder that the government has been so much more than a year.\\n\\nThe government has been\""
      ]
     },
     "execution_count": 93,
     "metadata": {},
     "output_type": "execute_result"
    }
   ],
   "source": [
    "input_ids = tokenizer.encode(\"It's no wonder that the\", return_tensors=\"pt\")\n",
    "output_hf = model_hf.generate(input_ids, max_new_tokens=16, top_k=1)\n",
    "tokenizer.decode(output_hf[0])"
   ]
  },
  {
   "cell_type": "code",
   "execution_count": 89,
   "metadata": {},
   "outputs": [],
   "source": [
    "assert torch.allclose(output, output_hf)"
   ]
  }
 ],
 "metadata": {
  "kernelspec": {
   "display_name": "Python 3",
   "language": "python",
   "name": "python3"
  },
  "language_info": {
   "codemirror_mode": {
    "name": "ipython",
    "version": 3
   },
   "file_extension": ".py",
   "mimetype": "text/x-python",
   "name": "python",
   "nbconvert_exporter": "python",
   "pygments_lexer": "ipython3",
   "version": "3.10.6"
  },
  "orig_nbformat": 4,
  "vscode": {
   "interpreter": {
    "hash": "b66dbdb614bfd022b649975f993762ad232399f75e8f30cb9176d485ed5b8487"
   }
  }
 },
 "nbformat": 4,
 "nbformat_minor": 2
}
