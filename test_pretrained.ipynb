{
 "cells": [
  {
   "cell_type": "code",
   "execution_count": 1,
   "metadata": {},
   "outputs": [
    {
     "name": "stdout",
     "output_type": "stream",
     "text": [
      "---\n",
      "loading weights from pretrained GPTNeoX: EleutherAI/pythia-70m\n",
      "WARNING: using slow attention. Flash Attention atm needs PyTorch nightly and dropout=0.0\n",
      "WARNING: using slow attention. Flash Attention atm needs PyTorch nightly and dropout=0.0\n",
      "WARNING: using slow attention. Flash Attention atm needs PyTorch nightly and dropout=0.0\n",
      "WARNING: using slow attention. Flash Attention atm needs PyTorch nightly and dropout=0.0\n",
      "WARNING: using slow attention. Flash Attention atm needs PyTorch nightly and dropout=0.0\n",
      "WARNING: using slow attention. Flash Attention atm needs PyTorch nightly and dropout=0.0\n",
      "number of parameters: 70.43M\n"
     ]
    }
   ],
   "source": [
    "import torch\n",
    "from transformers import GPTNeoXForCausalLM, GPTNeoXTokenizerFast\n",
    "from model import GPT\n",
    "model_hf = GPTNeoXForCausalLM.from_pretrained(\"EleutherAI/pythia-70m\")\n",
    "print('---')\n",
    "model = GPT.from_pretrained(\"EleutherAI/pythia-70m\")\n",
    "tokenizer = GPTNeoXTokenizerFast.from_pretrained(\"EleutherAI/pythia-70m\")\n"
   ]
  },
  {
   "cell_type": "code",
   "execution_count": 2,
   "metadata": {},
   "outputs": [
    {
     "data": {
      "text/plain": [
       "True"
      ]
     },
     "execution_count": 2,
     "metadata": {},
     "output_type": "execute_result"
    }
   ],
   "source": [
    "input_ids = torch.randint(0, 1000, (1, 512))\n",
    "target_ids = torch.randint(0, 1000, (1, 512))\n",
    "\n",
    "model_hf.train()\n",
    "model.train()\n",
    "\n",
    "x = model_hf(input_ids, labels=target_ids)\n",
    "y = model(input_ids, target_ids)\n",
    "torch.allclose(x.logits, y[0])"
   ]
  },
  {
   "cell_type": "code",
   "execution_count": 3,
   "metadata": {},
   "outputs": [
    {
     "name": "stderr",
     "output_type": "stream",
     "text": [
      "The attention mask and the pad token id were not set. As a consequence, you may observe unexpected behavior. Please pass your input's `attention_mask` to obtain reliable results.\n",
      "Setting `pad_token_id` to `eos_token_id`:0 for open-end generation.\n"
     ]
    },
    {
     "data": {
      "text/plain": [
       "(True,\n",
       " \"It's no wonder that the government has been so much more than a year.\\n\\nThe government has been\")"
      ]
     },
     "execution_count": 3,
     "metadata": {},
     "output_type": "execute_result"
    }
   ],
   "source": [
    "input_ids = tokenizer.encode(\"It's no wonder that the\", return_tensors=\"pt\")\n",
    "model.eval()\n",
    "model_hf.eval()\n",
    "output = model.generate(input_ids, 16, top_k=1)\n",
    "output_hf = model_hf.generate(input_ids, max_new_tokens=16, top_k=1)\n",
    "\n",
    "torch.allclose(output, output_hf), tokenizer.decode(output[0])"
   ]
  },
  {
   "cell_type": "code",
   "execution_count": 4,
   "metadata": {},
   "outputs": [
    {
     "name": "stdout",
     "output_type": "stream",
     "text": [
      "[1212, 318, 257, 1332] [1552, 310, 247, 1071]\n"
     ]
    }
   ],
   "source": [
    "tokenizer = GPTNeoXTokenizerFast.from_pretrained(\"EleutherAI/pythia-70m\")\n",
    "import tiktoken\n",
    "enc = tiktoken.get_encoding(\"gpt2\")\n",
    "\n",
    "tiktoken_ids = enc.encode_ordinary(\"This is a test\")\n",
    "hf_ids = tokenizer.encode(\"This is a test\")\n",
    "print(tiktoken_ids, hf_ids)"
   ]
  },
  {
   "cell_type": "code",
   "execution_count": null,
   "metadata": {},
   "outputs": [],
   "source": []
  }
 ],
 "metadata": {
  "kernelspec": {
   "display_name": "Python 3",
   "language": "python",
   "name": "python3"
  },
  "language_info": {
   "codemirror_mode": {
    "name": "ipython",
    "version": 3
   },
   "file_extension": ".py",
   "mimetype": "text/x-python",
   "name": "python",
   "nbconvert_exporter": "python",
   "pygments_lexer": "ipython3",
   "version": "3.10.6"
  },
  "orig_nbformat": 4
 },
 "nbformat": 4,
 "nbformat_minor": 2
}
