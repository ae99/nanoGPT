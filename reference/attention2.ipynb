{
 "cells": [
  {
   "cell_type": "code",
   "execution_count": 35,
   "metadata": {},
   "outputs": [],
   "source": [
    "import torch\n",
    "qkv = torch.tensor([1,1,1,1,1,1,1,1,\n",
    "                    2,2,2,2,2,2,2,2,\n",
    "                    3,3,3,3,3,3,3,3,\n",
    "                    1,1,1,1,1,1,1,1,\n",
    "                    2,2,2,2,2,2,2,2,\n",
    "                    3,3,3,3,3,3,3,3,\n",
    "                    1,1,1,1,1,1,1,1,\n",
    "                    2,2,2,2,2,2,2,2,\n",
    "                    3,3,3,3,3,3,3,3,\n",
    "                    1,1,1,1,1,1,1,1,\n",
    "                    2,2,2,2,2,2,2,2,\n",
    "                    3,3,3,3,3,3,3,3])\n"
   ]
  },
  {
   "cell_type": "code",
   "execution_count": 55,
   "metadata": {},
   "outputs": [
    {
     "data": {
      "text/plain": [
       "tensor([[[1, 1, 1, 1, 1, 1, 1, 1],\n",
       "         [1, 1, 1, 1, 1, 1, 1, 1],\n",
       "         [1, 1, 1, 1, 1, 1, 1, 1],\n",
       "         [1, 1, 1, 1, 1, 1, 1, 1]],\n",
       "\n",
       "        [[2, 2, 2, 2, 2, 2, 2, 2],\n",
       "         [2, 2, 2, 2, 2, 2, 2, 2],\n",
       "         [2, 2, 2, 2, 2, 2, 2, 2],\n",
       "         [2, 2, 2, 2, 2, 2, 2, 2]],\n",
       "\n",
       "        [[3, 3, 3, 3, 3, 3, 3, 3],\n",
       "         [3, 3, 3, 3, 3, 3, 3, 3],\n",
       "         [3, 3, 3, 3, 3, 3, 3, 3],\n",
       "         [3, 3, 3, 3, 3, 3, 3, 3]]])"
      ]
     },
     "execution_count": 55,
     "metadata": {},
     "output_type": "execute_result"
    }
   ],
   "source": [
    "qkv.view(4, -1, 8).transpose(0, 1)"
   ]
  },
  {
   "cell_type": "code",
   "execution_count": 56,
   "metadata": {},
   "outputs": [],
   "source": [
    "q,k,v = qkv.view(4, -1, 8).transpose(0, 1)"
   ]
  },
  {
   "cell_type": "code",
   "execution_count": 57,
   "metadata": {},
   "outputs": [
    {
     "data": {
      "text/plain": [
       "tensor([[1, 1, 1, 1, 1, 1, 1, 1],\n",
       "        [1, 1, 1, 1, 1, 1, 1, 1],\n",
       "        [1, 1, 1, 1, 1, 1, 1, 1],\n",
       "        [1, 1, 1, 1, 1, 1, 1, 1]])"
      ]
     },
     "execution_count": 57,
     "metadata": {},
     "output_type": "execute_result"
    }
   ],
   "source": [
    "q"
   ]
  }
 ],
 "metadata": {
  "kernelspec": {
   "display_name": "Python 3",
   "language": "python",
   "name": "python3"
  },
  "language_info": {
   "codemirror_mode": {
    "name": "ipython",
    "version": 3
   },
   "file_extension": ".py",
   "mimetype": "text/x-python",
   "name": "python",
   "nbconvert_exporter": "python",
   "pygments_lexer": "ipython3",
   "version": "3.10.6"
  },
  "orig_nbformat": 4,
  "vscode": {
   "interpreter": {
    "hash": "b66dbdb614bfd022b649975f993762ad232399f75e8f30cb9176d485ed5b8487"
   }
  }
 },
 "nbformat": 4,
 "nbformat_minor": 2
}
